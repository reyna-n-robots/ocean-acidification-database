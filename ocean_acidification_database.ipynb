{
 "cells": [
  {
   "attachments": {},
   "cell_type": "markdown",
   "metadata": {},
   "source": [
    "# Ocean Acidification Sea Grant Database\n",
    "Reyna Ayala\n",
    "\n",
    "==============================================================\n",
    "\n",
    "## Table of Contents\n",
    "[`Repository Map`](#repository-map)  \n",
    "[`Executable File: advanced_search.py`](#executable-file-advanced_searchpy)  \n",
    "Reference File 1: page.py  \n",
    "Reference File 2: elemnt.py\n",
    "\n",
    "## Repository Map\n",
    "\n",
    "## Executable File: advanced_search.py"
   ]
  },
  {
   "cell_type": "code",
   "execution_count": null,
   "metadata": {},
   "outputs": [],
   "source": [
    "from selenium import webdriver\n",
    "from selenium.webdriver.common.keys import Keys\n",
    "from selenium.webdriver.common.by import By\n",
    "from selenium.webdriver.support.ui import WebDriverWait\n",
    "from selenium.webdriver.support import expected_conditions as EC\n",
    "import pandas as pd\n",
    "import xlsxwriter\n",
    "\n",
    "import page\n",
    "import elemnt\n",
    "import unittest\n",
    "\n",
    "class Advanced_Search(unittest.TestCase):\n",
    "\n",
    "    def set_up(self):\n",
    "        self.driver = webdriver.Firefox()\n",
    "        self.driver.get(\"http://eos.ucs.uri.edu/EOSWebOPAC/OPAC/Search/AdvancedSearch.aspx\")\n",
    "\n",
    "    def search_ocean_acidif(self):\n",
    "        main_page = page.MainPage(self.driver)\n",
    "        self.assertTrue(main_page.is_title_matches(), \"Advanced Search - OPAC Discovery doesn't match.\")\n",
    "\n",
    "        main_page.search_text(\"ocean acidification\")\n",
    "        main_page.click_go()\n",
    "\n",
    "        self.search_results_page = page.SearchResultsPage(self.driver)\n",
    "        self.assertTrue(self.search_results_page.is_results_found(), \"No results found.\")\n",
    "\n",
    "    def open_single_result(self, row_num):\n",
    "        WebDriverWait(self.driver, 10).until(EC.presence_of_element_located((By.ID, 'MainRepeaterDetailRow_'+row_num)))\n",
    "        row_i = self.driver.find_element(By.ID, 'MainRepeaterDetailRow_' + row_num)\n",
    "        link_i = row_i.find_element(By.CLASS_NAME, 'NoVisitNoUnder')\n",
    "        link_i.click()\n",
    "    \n",
    "    def collect_single_result(self, row_num):\n",
    "        WebDriverWait(self.driver, 10).until(EC.presence_of_element_located((By.ID, 'ctl00_ctl00_webopacContentHolder_detailContent_BibliographicDetail_BibDetailRepeater_ctl01_DataCell')))\n",
    "\n",
    "        entry = [0] * 13\n",
    "        \n",
    "        # works manually for now but will have to change to: stop reading when you hit \"notes\" --> break\n",
    "        # if labelcell text is blank then append to str not list -- this only needs to be applied to author names\n",
    "        # if it's just numbers and not any other characters, convert back to int or float\n",
    "        for i in range(1,14):\n",
    "            if i < 10:\n",
    "                entry[i-1] = self.driver.find_element(By.ID, 'ctl00_ctl00_webopacContentHolder_detailContent_BibliographicDetail_BibDetailRepeater_ctl0'+ str(i) +'_DataCell').text\n",
    "            else:\n",
    "                entry[i-1] = self.driver.find_element(By.ID, 'ctl00_ctl00_webopacContentHolder_detailContent_BibliographicDetail_BibDetailRepeater_ctl'+ str(i) +'_DataCell').text\n",
    "        \n",
    "        print(entry)\n",
    "\n",
    "        dataframe = pd.DataFrame([entry])\n",
    "        writer = pd.ExcelWriter('database.xlsx', engine='xlsxwriter')\n",
    "        dataframe.to_excel(writer, sheet_name='Sheet1', startrow=row_num+1, index=False, header=False)\n",
    "        writer.close()\n",
    "\n",
    "\n",
    "    def tearDown(self):\n",
    "        self.driver.close()\n",
    "\n",
    "\"\"\" if __name__ == \"__main__\":\n",
    "    unittest.main() \"\"\"\n",
    "\n",
    "search = Advanced_Search()\n",
    "search.set_up()\n",
    "search.search_ocean_acidif()\n",
    "search.open_single_result('1')\n",
    "search.collect_single_result(1)\n",
    "#search.tearDown()"
   ]
  },
  {
   "attachments": {},
   "cell_type": "markdown",
   "metadata": {},
   "source": [
    "## Reference File 1: page.py"
   ]
  }
 ],
 "metadata": {
  "kernelspec": {
   "display_name": "base",
   "language": "python",
   "name": "python3"
  },
  "language_info": {
   "name": "python",
   "version": "3.9.7 (default, Sep 16 2021, 16:59:28) [MSC v.1916 64 bit (AMD64)]"
  },
  "orig_nbformat": 4,
  "vscode": {
   "interpreter": {
    "hash": "0355f9912b07a60b86573145cf209db139751d7dfa7e96c6e498797d925efe9a"
   }
  }
 },
 "nbformat": 4,
 "nbformat_minor": 2
}
